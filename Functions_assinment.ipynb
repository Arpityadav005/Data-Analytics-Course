{
 "cells": [
  {
   "cell_type": "markdown",
   "id": "bf67dfee-36f6-49a0-9c8e-ef5241f9592e",
   "metadata": {},
   "source": [
    "Q1.  What is the difference between a function and a method in Python?\n",
    "ANS. A function is a block of code that is defined independently and can be called without being tied to an object or class.\n",
    "A method is a function that is associated with an object or class. It operates on the data (attributes) of the object.\n",
    "EXAMPLE: # Function\n",
    "def greet(name):\n",
    "    return f\"Hello, {name}\"\n",
    "\n",
    "print(greet(\"Alice\")) \n",
    "\n",
    "class Person:\n",
    "    def __init__(self, name):\n",
    "        self.name = name\n",
    "    \n",
    "    def greet(self):\n",
    "        return f\"Hello, {self.name}\"\n",
    "\n",
    "p = Person(\"Alice\")\n",
    "print(p.greet())  \n",
    "\n",
    "\n",
    "Q2. Explain the concept of function arguments and parameters in Python.\n",
    "ANS: Parameters are the variables defined in the function signature. They act as placeholders for the values that will be passed when the function is called.\n",
    "Arguments are the actual values passed to the function when it is called.\n",
    "Example:\n",
    "\n",
    "def add(a, b):  \n",
    "    return a + b\n",
    "print(add(3, 5))  \n",
    "\n",
    "\n",
    "Q3. What are the different ways to define and call a function in Python?\n",
    "Answer: A function can be defined using the def keyword.\n",
    "Alternatively, a lambda function (also called an anonymous function) can be defined in a single line using the lambda keyword.\n",
    "Example:\n",
    "\n",
    "def greet(name):\n",
    "    return f\"Hello, {name}\"\n",
    "print(greet(\"Alice\")) \n",
    "square = lambda x: x * x\n",
    "print(square(4)) \n",
    "\n",
    "\n",
    "Q4. What is the purpose of the return statement in a Python function?\n",
    "Answer:  The return statement is used to send a result from the function back to the caller. If no value is provided, it returns None by default.\n",
    "Example:\n",
    "\n",
    "def multiply(a, b):\n",
    "    return a * b\n",
    "\n",
    "print(multiply(3, 4))\n",
    "\n",
    "Q5. What are iterators in Python and how do they differ from iterables?\n",
    "Answer: An iterable is an object that can return an iterator (e.g., lists, strings, tuples).\n",
    "An iterator is an object that keeps track of the state during iteration and provides the next value using the next() function.\n",
    "Example:\n",
    "\n",
    "numbers = [1, 2, 3]\n",
    "for num in numbers:\n",
    "    print(num)  \n",
    "numbers_iter = iter(numbers)\n",
    "print(next(numbers_iter))  \n",
    "print(next(numbers_iter)) \n",
    "\n",
    "\n",
    "Q6. Explain the concept of generators in Python and how they are defined.\n",
    "Answer:  A generator is a function that uses the yield keyword to return values one at a time, as needed, instead of returning all values at once like in regular functions. This helps save memory.\n",
    "\n",
    "Example:\n",
    "\n",
    "def count_up_to(max):\n",
    "    count = 1\n",
    "    while count <= max:\n",
    "        yield count\n",
    "        count += 1\n",
    "\n",
    "gen = count_up_to(5)\n",
    "print(next(gen))  \n",
    "print(next(gen)) \n",
    "\n",
    "\n",
    "Q7. What are the advantages of using generators over regular functions?\n",
    "Answer: Memory efficiency: Generators produce values one at a time and don’t store the entire output in memory, unlike regular functions that may return large lists.\n",
    "Faster execution: Generators allow lazy evaluation, meaning values are computed only when needed.\n",
    "Example:\n",
    "\n",
    "def get_range(n):\n",
    "    for i in range(n):\n",
    "        yield i \n",
    "gen = get_range(5)\n",
    "for num in gen:\n",
    "    print(num)  \n",
    "\n",
    "\n",
    "Q8. What is a lambda function in Python and when is it typically used?\n",
    "Answer: A lambda function is a small anonymous function defined using the lambda keyword. It is typically used for short, simple tasks, like sorting or filtering, where a full function definition would be unnecessary.\n",
    "\n",
    "Example:\n",
    "\n",
    "add = lambda x, y: x + y\n",
    "print(add(3, 4)) \n",
    "\n",
    "Q9. Explain the purpose and usage of the map() function in Python.\n",
    "Answer:  The map() function applies a given function to each item of an iterable and returns a map object (an iterator).\n",
    "\n",
    "Example:\n",
    "\n",
    "numbers = [1, 2, 3, 4]\n",
    "squared_numbers = map(lambda x: x ** 2, numbers)\n",
    "print(list(squared_numbers))  \n",
    "\n",
    "\n",
    "Q10. What is the difference between map(), reduce(), and filter() functions in Python?\n",
    "Answer:\n",
    "\n",
    "map(): Applies a function to all elements of an iterable and returns the results.\n",
    "filter(): Applies a function to filter elements based on a condition and returns the elements where the function returns True.\n",
    "reduce(): Applies a function cumulatively to the elements in an iterable and reduces them to a single value.\n",
    "Example:\n",
    "\n",
    "from functools import reduce\n",
    "numbers = [1, 2, 3, 4]\n",
    "squared_numbers = map(lambda x: x ** 2, numbers)\n",
    "print(list(squared_numbers))  \n",
    "even_numbers = filter(lambda x: x % 2 == 0, numbers)\n",
    "print(list(even_numbers))  \n",
    "sum_of_numbers = reduce(lambda x, y: x + y, numbers)\n",
    "print(sum_of_numbers)  \n"
   ]
  },
  {
   "cell_type": "code",
   "execution_count": 3,
   "id": "bf32674a-6502-4acd-af69-9ea0cb7ca40f",
   "metadata": {},
   "outputs": [
    {
     "name": "stdout",
     "output_type": "stream",
     "text": [
      "12\n"
     ]
    }
   ],
   "source": [
    "# 1. Write a Python function that takes a list of numbers as input and returns the sum of all even numbers in the list.\n",
    "def sum_of_even_numbers(numbers):\n",
    "    return sum(num for num in numbers if num % 2 == 0)\n",
    "\n",
    "# Example usage\n",
    "numbers = [1, 2, 3, 4, 5, 6]\n",
    "print(sum_of_even_numbers(numbers))"
   ]
  },
  {
   "cell_type": "code",
   "execution_count": 5,
   "id": "0b05ef06-4b7f-4237-847c-6fbad5afb492",
   "metadata": {},
   "outputs": [
    {
     "name": "stdout",
     "output_type": "stream",
     "text": [
      "olleh\n"
     ]
    }
   ],
   "source": [
    "# 2. Create a Python function that accepts a string and returns the reverse of that string.\n",
    "def reverse_string(s):\n",
    "    return s[::-1]\n",
    "\n",
    "# Example usage\n",
    "string = \"hello\"\n",
    "print(reverse_string(string))"
   ]
  },
  {
   "cell_type": "code",
   "execution_count": 9,
   "id": "429c5093-07d5-4d4f-a126-a97c694fdbb8",
   "metadata": {},
   "outputs": [
    {
     "name": "stdout",
     "output_type": "stream",
     "text": [
      "[1, 4, 9, 16, 25]\n"
     ]
    }
   ],
   "source": [
    "# 3. Implement a Python function that takes a list of integers and returns a new list containing the squares of each number.\n",
    "def square_numbers(numbers):\n",
    "    return [num ** 2 for num in numbers]\n",
    "\n",
    "# Example usage\n",
    "numbers = [1, 2, 3, 4, 5]\n",
    "print(square_numbers(numbers))\n"
   ]
  },
  {
   "cell_type": "code",
   "execution_count": 11,
   "id": "9fb3e96b-c243-4bf8-b31b-3c0058e7b846",
   "metadata": {},
   "outputs": [
    {
     "name": "stdout",
     "output_type": "stream",
     "text": [
      "2 3 5 7 11 13 17 19 23 29 31 37 41 43 47 53 59 61 67 71 73 79 83 89 97 101 103 107 109 113 127 131 137 139 149 151 157 163 167 173 179 181 191 193 197 199 "
     ]
    }
   ],
   "source": [
    "# 4. Write a Python function that checks if a given number is prime or not from 1 to 200.\n",
    "def is_prime(num):\n",
    "    if num <= 1:\n",
    "        return False\n",
    "    for i in range(2, int(num ** 0.5) + 1):\n",
    "        if num % i == 0:\n",
    "            return False\n",
    "    return True\n",
    "\n",
    "# Example usage\n",
    "for num in range(1, 201):\n",
    "    if is_prime(num):\n",
    "        print(num, end=\" \") "
   ]
  },
  {
   "cell_type": "code",
   "execution_count": 13,
   "id": "65c1185d-af5f-4d3a-bb38-8e24ecf99369",
   "metadata": {},
   "outputs": [
    {
     "name": "stdout",
     "output_type": "stream",
     "text": [
      "0 1 1 2 3 5 8 13 21 34 "
     ]
    }
   ],
   "source": [
    "# 5. Create an iterator class in Python that generates the Fibonacci sequence up to a specified number of terms.\n",
    "class FibonacciIterator:\n",
    "    def __init__(self, n):\n",
    "        self.n = n\n",
    "        self.a, self.b = 0, 1\n",
    "        self.count = 0\n",
    "\n",
    "    def __iter__(self):\n",
    "        return self\n",
    "\n",
    "    def __next__(self):\n",
    "        if self.count < self.n:\n",
    "            result = self.a\n",
    "            self.a, self.b = self.b, self.a + self.b\n",
    "            self.count += 1\n",
    "            return result\n",
    "        else:\n",
    "            raise StopIteration\n",
    "\n",
    "# Example usage\n",
    "fib = FibonacciIterator(10)\n",
    "for num in fib:\n",
    "    print(num, end=\" \") "
   ]
  },
  {
   "cell_type": "code",
   "execution_count": 15,
   "id": "008f502a-0098-41ed-8a07-ec95a4b9238d",
   "metadata": {},
   "outputs": [
    {
     "name": "stdout",
     "output_type": "stream",
     "text": [
      "1 2 4 8 16 32 "
     ]
    }
   ],
   "source": [
    "# 6. Write a generator function in Python that yields the powers of 2 up to a given exponent.\n",
    "def powers_of_two(exponent):\n",
    "    for i in range(exponent + 1):\n",
    "        yield 2 ** i\n",
    "\n",
    "# Example usage\n",
    "for power in powers_of_two(5):\n",
    "    print(power, end=\" \")  \n",
    "\n"
   ]
  },
  {
   "cell_type": "code",
   "execution_count": 17,
   "id": "9ac328b7-84d0-406f-98a2-20ad1b9e1f66",
   "metadata": {},
   "outputs": [],
   "source": [
    "# 7. Implement a generator function that reads a file line by line and yields each line as a string.\n",
    "def read_file_line_by_line(filename):\n",
    "    with open(filename, 'r') as file:\n",
    "        for line in file:\n",
    "            yield line.strip()\n",
    "\n",
    "for line in read_file_line_by_line('example.txt'):\n",
    "     print(line)\n"
   ]
  },
  {
   "cell_type": "code",
   "execution_count": 19,
   "id": "29c4bfaf-dd9d-443b-ad8b-61fae1468f57",
   "metadata": {},
   "outputs": [
    {
     "name": "stdout",
     "output_type": "stream",
     "text": [
      "[(3, 1), (2, 2), (1, 3), (4, 5)]\n"
     ]
    }
   ],
   "source": [
    "# 8. Use a lambda function in Python to sort a list of tuples based on the second element of each tuple.\n",
    "data = [(1, 3), (2, 2), (3, 1), (4, 5)]\n",
    "sorted_data = sorted(data, key=lambda x: x[1])\n",
    "\n",
    "print(sorted_data) "
   ]
  },
  {
   "cell_type": "code",
   "execution_count": 21,
   "id": "a0b5a3be-b081-4c93-bddf-675873d4199a",
   "metadata": {},
   "outputs": [
    {
     "name": "stdout",
     "output_type": "stream",
     "text": [
      "[32.0, 77.0, 86.0, 212.0]\n"
     ]
    }
   ],
   "source": [
    "# 9. Write a Python program that uses `map()` to convert a list of temperatures from Celsius to Fahrenheit.\n",
    "def celsius_to_fahrenheit(celsius):\n",
    "    return (celsius * 9/5) + 32\n",
    "\n",
    "celsius_temperatures = [0, 25, 30, 100]\n",
    "fahrenheit_temperatures = map(celsius_to_fahrenheit, celsius_temperatures)\n",
    "\n",
    "print(list(fahrenheit_temperatures)) "
   ]
  },
  {
   "cell_type": "code",
   "execution_count": 23,
   "id": "7356cfe6-0491-430a-aa96-758146a5e64c",
   "metadata": {},
   "outputs": [
    {
     "name": "stdout",
     "output_type": "stream",
     "text": [
      "Hll, Wrld!\n"
     ]
    }
   ],
   "source": [
    "# 10. Create a Python program that uses `filter()` to remove all the vowels from a given string.\n",
    "def remove_vowels(s):\n",
    "    vowels = \"aeiouAEIOU\"\n",
    "    return ''.join(filter(lambda char: char not in vowels, s))\n",
    "# Example usage\n",
    "string = \"Hello, World!\"\n",
    "print(remove_vowels(string)) \n"
   ]
  },
  {
   "cell_type": "code",
   "execution_count": null,
   "id": "d8da84cd-0d16-44a2-bdcc-fdd18b5a2bfc",
   "metadata": {},
   "outputs": [],
   "source": [
    "# Q11.  Imagine an accounting routine used in a book shop. It works on a list with sublists, which look like this:\n",
    "# Write a Python program, which returns a list with 2-tuples. Each tuple consists of the order number and the\n",
    "# product of the price per item and the quantity. The product should be increased by 10,- € if the value of the\n",
    "# order is smaller than 100,00 €.\n",
    "# Write a Python program using lambda and map\n",
    "\n",
    "\n",
    "def process_orders(orders):\n",
    "    return list(map(lambda order: (\n",
    "        order[0],  # Order number\n",
    "        (order[2] * order[3]) + 10 if (order[2] * order[3]) < 100 else (order[2] * order[3])  # Product calculation\n",
    "    ), orders))\n",
    "\n",
    "orders = [\n",
    "    [34587, \"Learning Python, Mark Lutz\", 40.95, 3],\n",
    "    [98762, \"Programming Python, Mark Lutz\", 56.80, 5],\n",
    "    [77226, \"Head First Python, Paul Barry\", 32.95, 2],\n",
    "    [88112, \"Einführung in Python3, Bernd Klein\", 24.99, 1]\n",
    "]\n",
    "\n",
    "processed_orders = process_orders(orders)\n",
    "\n",
    "print(processed_orders)\n"
   ]
  }
 ],
 "metadata": {
  "kernelspec": {
   "display_name": "Python 3 (ipykernel)",
   "language": "python",
   "name": "python3"
  },
  "language_info": {
   "codemirror_mode": {
    "name": "ipython",
    "version": 3
   },
   "file_extension": ".py",
   "mimetype": "text/x-python",
   "name": "python",
   "nbconvert_exporter": "python",
   "pygments_lexer": "ipython3",
   "version": "3.12.7"
  }
 },
 "nbformat": 4,
 "nbformat_minor": 5
}
