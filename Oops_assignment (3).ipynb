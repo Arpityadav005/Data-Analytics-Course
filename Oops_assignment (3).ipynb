{
 "cells": [
  {
   "cell_type": "code",
   "execution_count": null,
   "id": "cc8badf6-b2e7-47de-9444-5789816e2d19",
   "metadata": {},
   "outputs": [],
   "source": [
    "# Q1.  What is Object-Oriented Programming (OOP)?\n",
    "# ANS. OOP is a programming paradigm that organizes software design around objects. These objects represent real-world entities with                attributes (data) and methods (functions). It makes code reusable, modular, and easier to understand.\n",
    "\n",
    "\n",
    "# Q2. What is a class in OOP?\n",
    "# ANS. A class is a blueprint for creating objects. It defines the structure and behavior of the objects, including their attributes (variables) and methods (functions). For example, a Car class might define properties like color and methods like drive().\n",
    "\n",
    "\n",
    "# Q3. What is an object in OOP?\n",
    "# ANS. An object is an instance of a class. It represents a specific entity with its own unique values for the attributes defined by the            class. For example, my_car = Car() creates an object my_car based on the Car class.\n",
    "\n",
    "\n",
    "# Q4. What is the difference between abstraction and encapsulation?\n",
    "# ANS. Abstraction hides complex implementation details and shows only the necessary features. (e.g., using a car without knowing how its           engine works.)\n",
    "#      Encapsulation restricts access to certain parts of an object to protect its data. This is achieved using private and public access           modifiers.\n",
    "\n",
    "\n",
    "# Q5. What are dunder methods in Python?\n",
    "# ANS. Dunder (double underscore) methods, like __init__, __str__, and __add__, allow you to define custom behaviors for Python operators and       built-in functions. For example, __str__ customizes how an object is represented as a string.\n",
    "\n",
    "\n",
    "# Q6. Explain the concept of inheritance in OOP.\n",
    "# ANS. Inheritance allows one class (child) to acquire the properties and behaviors of another class (parent). It promotes code reuse. For          example, a Dog class can inherit from an Animal class, gaining all its attributes and methods.\n",
    "\n",
    "\n",
    "# Q7.  What is polymorphism in OOP?\n",
    "# ANS. Polymorphism allows the same method or operator to perform different actions based on the context. For example, the + operator adds          numbers but concatenates strings. Similarly, a speak() method can behave differently for Dog and Cat classes.\n",
    "\n",
    "\n",
    "# Q8. How is encapsulation achieved in Python?\n",
    "# ANS. Encapsulation is achieved using private attributes and methods by prefixing their names with an underscore _ or double underscore __.         Accessor (getter) and mutator (setter) methods are used to safely access and modify private data.\n",
    "\n",
    "\n",
    "# Q9. What is a constructor in Python?\n",
    "# ANS. A constructor is a special method (__init__) in a class that is automatically called when an object is created. It initializes the o         bject’s attributes. For example:\n",
    "\n",
    "# class Person:\n",
    "#     def __init__(self, name):\n",
    "#         self.name = name\n",
    "\n",
    "        \n",
    "# Q10. What are class and static methods in Python?\n",
    "# ANS. Class methods (@classmethod) work with the class as a whole and can modify class-level attributes.\n",
    "#      Static methods (@staticmethod) are independent of class or instance attributes and are used for utility purposes.\n",
    "\n",
    "\n",
    "# Q11. What is method overloading in Python?\n",
    "# ANS. Method overloading means having multiple methods with the same name but different parameters. Python does not directly support this but      can simulate it using default arguments or variable-length arguments.\n",
    "\n",
    "\n",
    "# Q12. What is method overriding in OOP?\n",
    "# ANS. Method overriding allows a child class to provide a specific implementation of a method already defined in its parent class. This            ensures that the method behaves differently for the child class.\n",
    "\n",
    "\n",
    "# Q13. What is a property decorator in Python?\n",
    "# ANS. The @property decorator is used to create getter, setter, and deleter methods for a class attribute, allowing controlled access while         using it like a regular attribute.\n",
    "\n",
    "\n",
    "# Q14. Why is polymorphism important in OOP?\n",
    "# ANS. Polymorphism simplifies code by allowing the same interface to be used for different data types or classes. This makes code flexible and extendable.\n",
    "\n",
    "\n",
    "# Q15. What is an abstract class in Python?\n",
    "# ANS. An abstract class, defined using the ABC module, cannot be instantiated directly. It serves as a blueprint for other classes and contains abstract methods that must be implemented by child classes.\n",
    "\n",
    "\n",
    "# Q16. What are the advantages of OOP?\n",
    "# ANS. Code reuse through inheritance.\n",
    "#      Improved code organization and readability.\n",
    "#      Easier maintenance with encapsulation.\n",
    "#      Flexibility through polymorphism.\n",
    "#      Real-world modeling with abstraction.\n",
    "\n",
    "\n",
    "# Q17. What is the difference between a class variable and an instance variable?\n",
    "# ANS. Class variables are shared across all instances of a class.\n",
    "#      Instance variables are unique to each object and defined in the constructor or methods.\n",
    "\n",
    "\n",
    "# Q18. What is multiple inheritance in Python?\n",
    "# ANS. Multiple inheritance allows a class to inherit from more than one parent class. For example:\n",
    "\n",
    "# class A: pass\n",
    "# class B: pass\n",
    "# class C(A, B): pass\n",
    "\n",
    "\n",
    "# Q19. Explain the purpose of __str__ and __repr__ methods in Python.\n",
    "# ANS. __str__ provides a user-friendly string representation of an object.\n",
    "#      __repr__ provides an unambiguous representation, typically for debugging.\n",
    "\n",
    "\n",
    "# Q20. What is the significance of the super() function in Python?\n",
    "# ANS. The super() function allows access to the parent class’s methods, making it easier to extend functionality without rewriting code.\n",
    "\n",
    "\n",
    "# Q21. What is the significance of the __del__ method in Python?\n",
    "# ANS. The __del__ method is a destructor called when an object is deleted or goes out of scope. It is used for cleanup tasks, like closing         files.\n",
    "\n",
    "\n",
    "\n",
    "# Q22. What is the difference between @staticmethod and @classmethod in Python?\n",
    "# ANS. @staticmethod: Does not use cls or self and operates independently.\n",
    "#      @classmethod: Uses cls and works at the class level.\n",
    "\n",
    "\n",
    "# Q23. How does polymorphism work in Python with inheritance?\n",
    "# ANS. In Python, polymorphism allows methods in child classes to override methods in the parent class. This is achieved by providing               different implementations of the same method in different classes.\n",
    "\n",
    "\n",
    "# Q24. What is method chaining in Python OOP?\n",
    "# ANS. Method chaining allows multiple methods to be called on an object in a single statement by returning self from each method. Example:\n",
    "\n",
    "# class Test:\n",
    "#     def method1(self):\n",
    "#         print(\"Method1\")\n",
    "#         return self\n",
    "#     def method2(self):\n",
    "#         print(\"Method2\")\n",
    "#         return self\n",
    "\n",
    "        \n",
    "# Q25. What is the purpose of the __call__ method in Python?\n",
    "# ANS. The __call__ method allows an instance of a class to be called like a function. For example:\n",
    "\n",
    "# class MyClass:\n",
    "#     def __call__(self, *args):\n",
    "#         print(\"Called with:\", args)\n"
   ]
  },
  {
   "cell_type": "code",
   "execution_count": 87,
   "id": "a7ddd06d-5293-48ec-afa8-16c5852b21b0",
   "metadata": {},
   "outputs": [
    {
     "name": "stdout",
     "output_type": "stream",
     "text": [
      "This is a generic animal sound.\n",
      "Bark!\n"
     ]
    }
   ],
   "source": [
    "# 1. Create a parent class Animal with a method speak() that prints a generic message. \n",
    "# Create a child class Dog that overrides the speak() method to print \"Bark!\".\n",
    "\n",
    "# Parent class\n",
    "class Animal:\n",
    "    def speak(self):\n",
    "        print(\"This is a generic animal sound.\")\n",
    "\n",
    "# Child class\n",
    "class Dog(Animal):\n",
    "    def speak(self):\n",
    "        print(\"Bark!\")\n",
    "\n",
    "# Testing the classes\n",
    "animal = Animal()\n",
    "animal.speak() \n",
    "dog = Dog()\n",
    "dog.speak()  "
   ]
  },
  {
   "cell_type": "code",
   "execution_count": 89,
   "id": "3a5d7c8e-2a03-48df-b313-86cee027fd1b",
   "metadata": {},
   "outputs": [
    {
     "name": "stdout",
     "output_type": "stream",
     "text": [
      "Area of Circle: 78.53981633974483\n",
      "Area of Rectangle: 24\n"
     ]
    }
   ],
   "source": [
    "# 2. Write a program to create an abstract class Shape with a method area(). \n",
    "# Derive classes Circle and Rectangle from it and implement the area() method in both.\n",
    "\n",
    "from abc import ABC, abstractmethod\n",
    "import math\n",
    "\n",
    "# Abstract class\n",
    "class Shape(ABC):\n",
    "    @abstractmethod\n",
    "    def area(self):\n",
    "        pass\n",
    "\n",
    "# Circle class\n",
    "class Circle(Shape):\n",
    "    def __init__(self, radius):\n",
    "        self.radius = radius\n",
    "    \n",
    "    def area(self):\n",
    "        return math.pi * (self.radius ** 2)\n",
    "\n",
    "# Rectangle class\n",
    "class Rectangle(Shape):\n",
    "    def __init__(self, length, width):\n",
    "        self.length = length\n",
    "        self.width = width\n",
    "    \n",
    "    def area(self):\n",
    "        return self.length * self.width\n",
    "\n",
    "# Testing the classes\n",
    "circle = Circle(5)\n",
    "print(\"Area of Circle:\", circle.area())  # Output: Area of Circle: 78.53981633974483\n",
    "\n",
    "rectangle = Rectangle(4, 6)\n",
    "print(\"Area of Rectangle:\", rectangle.area())  # Output: Area of Rectangle: 24\n"
   ]
  },
  {
   "cell_type": "code",
   "execution_count": 91,
   "id": "42083485-ee35-4c48-a52d-4035eaaebdf8",
   "metadata": {},
   "outputs": [
    {
     "name": "stdout",
     "output_type": "stream",
     "text": [
      "Type: Electric Vehicle, Brand: Tesla, Battery: 100 kWh\n"
     ]
    }
   ],
   "source": [
    "# 3. Implement a multi-level inheritance scenario where a class Vehicle has an attribute type. \n",
    "# Derive a class Car and further derive a class ElectricCar that adds a battery attribute.\n",
    "\n",
    "# Base class\n",
    "class Vehicle:\n",
    "    def __init__(self, vehicle_type):\n",
    "        self.vehicle_type = vehicle_type\n",
    "\n",
    "# Intermediate class\n",
    "class Car(Vehicle):\n",
    "    def __init__(self, vehicle_type, brand):\n",
    "        super().__init__(vehicle_type)\n",
    "        self.brand = brand\n",
    "\n",
    "# Derived class\n",
    "class ElectricCar(Car):\n",
    "    def __init__(self, vehicle_type, brand, battery_capacity):\n",
    "        super().__init__(vehicle_type, brand)\n",
    "        self.battery_capacity = battery_capacity\n",
    "\n",
    "# Testing the classes\n",
    "tesla = ElectricCar(\"Electric Vehicle\", \"Tesla\", \"100 kWh\")\n",
    "print(f\"Type: {tesla.vehicle_type}, Brand: {tesla.brand}, Battery: {tesla.battery_capacity}\")\n"
   ]
  },
  {
   "cell_type": "code",
   "execution_count": 93,
   "id": "19962d28-ee68-49d2-a993-7bc7f867b4f9",
   "metadata": {},
   "outputs": [
    {
     "name": "stdout",
     "output_type": "stream",
     "text": [
      "Type: Electric Vehicle, Brand: Tesla, Battery: 85 kWh\n"
     ]
    }
   ],
   "source": [
    "# 4. Implement a multi-level inheritance scenario where a class Vehicle has an attribute type. \n",
    "# Derive a class Car and further derive a class ElectricCar that adds a battery attribute.\n",
    "\n",
    "# Base class\n",
    "class Vehicle:\n",
    "    def __init__(self, vehicle_type):\n",
    "        self.vehicle_type = vehicle_type\n",
    "\n",
    "# Intermediate class\n",
    "class Car(Vehicle):\n",
    "    def __init__(self, vehicle_type, brand):\n",
    "        super().__init__(vehicle_type)\n",
    "        self.brand = brand\n",
    "\n",
    "# Derived class\n",
    "class ElectricCar(Car):\n",
    "    def __init__(self, vehicle_type, brand, battery_capacity):\n",
    "        super().__init__(vehicle_type, brand)\n",
    "        self.battery_capacity = battery_capacity\n",
    "\n",
    "# Testing the classes\n",
    "electric_car = ElectricCar(\"Electric Vehicle\", \"Tesla\", \"85 kWh\")\n",
    "print(f\"Type: {electric_car.vehicle_type}, Brand: {electric_car.brand}, Battery: {electric_car.battery_capacity}\")\n"
   ]
  },
  {
   "cell_type": "code",
   "execution_count": 95,
   "id": "7a17cd14-7372-4463-9b45-1a9b16bc0291",
   "metadata": {},
   "outputs": [
    {
     "name": "stdout",
     "output_type": "stream",
     "text": [
      "Deposited: 500\n",
      "Withdrew: 300\n",
      "Balance: 1200\n"
     ]
    }
   ],
   "source": [
    "# 5. Write a program to demonstrate encapsulation by creating a class BankAccount \n",
    "# with private attributes balance and methods to deposit, withdraw, and check balance.\n",
    "\n",
    "class BankAccount:\n",
    "    def __init__(self, initial_balance=0):\n",
    "        self.__balance = initial_balance  # Private attribute\n",
    "    \n",
    "    def deposit(self, amount):\n",
    "        if amount > 0:\n",
    "            self.__balance += amount\n",
    "            print(f\"Deposited: {amount}\")\n",
    "        else:\n",
    "            print(\"Invalid deposit amount.\")\n",
    "    \n",
    "    def withdraw(self, amount):\n",
    "        if 0 < amount <= self.__balance:\n",
    "            self.__balance -= amount\n",
    "            print(f\"Withdrew: {amount}\")\n",
    "        else:\n",
    "            print(\"Invalid withdrawal amount or insufficient balance.\")\n",
    "    \n",
    "    def check_balance(self):\n",
    "        return self.__balance\n",
    "\n",
    "# Testing the class\n",
    "account = BankAccount(1000)\n",
    "account.deposit(500)  \n",
    "account.withdraw(300)  \n",
    "print(f\"Balance: {account.check_balance()}\") \n"
   ]
  },
  {
   "cell_type": "code",
   "execution_count": 97,
   "id": "8e3bb81d-125d-4cef-afcf-ce4c82777cee",
   "metadata": {},
   "outputs": [
    {
     "name": "stdout",
     "output_type": "stream",
     "text": [
      "Playing an instrument.\n",
      "Strumming the guitar.\n",
      "Playing the piano.\n"
     ]
    }
   ],
   "source": [
    "# 6. Demonstrate runtime polymorphism using a method play() in a base class Instrument. \n",
    "# Derive classes Guitar and Piano that implement their own version of play().\n",
    "\n",
    "# Base class\n",
    "class Instrument:\n",
    "    def play(self):\n",
    "        print(\"Playing an instrument.\")\n",
    "\n",
    "# Derived class Guitar\n",
    "class Guitar(Instrument):\n",
    "    def play(self):\n",
    "        print(\"Strumming the guitar.\")\n",
    "\n",
    "# Derived class Piano\n",
    "class Piano(Instrument):\n",
    "    def play(self):\n",
    "        print(\"Playing the piano.\")\n",
    "\n",
    "# Testing the classes\n",
    "instrument = Instrument()\n",
    "instrument.play() \n",
    "\n",
    "guitar = Guitar()\n",
    "guitar.play() \n",
    "\n",
    "piano = Piano()\n",
    "piano.play()  "
   ]
  },
  {
   "cell_type": "code",
   "execution_count": 99,
   "id": "ae52eda6-b0c8-493c-9428-966a70554498",
   "metadata": {},
   "outputs": [
    {
     "name": "stdout",
     "output_type": "stream",
     "text": [
      "Sum: 8\n",
      "Difference: 2\n"
     ]
    }
   ],
   "source": [
    "# 7. Create a class MathOperations with a class method add_numbers() to add two numbers \n",
    "# and a static method subtract_numbers() to subtract two numbers.\n",
    "\n",
    "class MathOperations:\n",
    "    @classmethod\n",
    "    def add_numbers(cls, a, b):\n",
    "        return a + b\n",
    "    \n",
    "    @staticmethod\n",
    "    def subtract_numbers(a, b):\n",
    "        return a - b\n",
    "\n",
    "# Testing the class methods\n",
    "sum_result = MathOperations.add_numbers(5, 3)  # Class method\n",
    "print(f\"Sum: {sum_result}\")  # Output: Sum: 8\n",
    "\n",
    "sub_result = MathOperations.subtract_numbers(5, 3)  # Static method\n",
    "print(f\"Difference: {sub_result}\") \n"
   ]
  },
  {
   "cell_type": "code",
   "execution_count": 101,
   "id": "b51a277e-af8d-4359-a6b7-1468ffb95bde",
   "metadata": {},
   "outputs": [
    {
     "name": "stdout",
     "output_type": "stream",
     "text": [
      "Total Persons: 3\n"
     ]
    }
   ],
   "source": [
    "# 8. Implement a class Person with a class method to count the total number of persons created.\n",
    "\n",
    "class Person:\n",
    "    count = 0  # Class variable to count total persons\n",
    "    \n",
    "    def __init__(self, name):\n",
    "        self.name = name\n",
    "        Person.count += 1  # Increment the count whenever a new Person is created\n",
    "    \n",
    "    @classmethod\n",
    "    def total_persons(cls):\n",
    "        return cls.count\n",
    "\n",
    "# Testing the class\n",
    "person1 = Person(\"Alice\")\n",
    "person2 = Person(\"Bob\")\n",
    "person3 = Person(\"Charlie\")\n",
    "\n",
    "print(f\"Total Persons: {Person.total_persons()}\")  \n"
   ]
  },
  {
   "cell_type": "code",
   "execution_count": 103,
   "id": "e436b829-3c63-4d12-9c34-8650dfac2c70",
   "metadata": {},
   "outputs": [
    {
     "name": "stdout",
     "output_type": "stream",
     "text": [
      "Fraction: 3/4\n"
     ]
    }
   ],
   "source": [
    "# 9. Write a class Fraction with attributes numerator and denominator. \n",
    "# Override the str method to display the fraction as \"numerator/denominator\".\n",
    "\n",
    "class Fraction:\n",
    "    def __init__(self, numerator, denominator):\n",
    "        self.numerator = numerator\n",
    "        self.denominator = denominator\n",
    "    \n",
    "    def __str__(self):\n",
    "        return f\"{self.numerator}/{self.denominator}\"\n",
    "\n",
    "# Testing the class\n",
    "fraction = Fraction(3, 4)\n",
    "print(f\"Fraction: {fraction}\") \n",
    "\n"
   ]
  },
  {
   "cell_type": "code",
   "execution_count": 105,
   "id": "5530bde7-e143-40bf-a06c-f324513470fa",
   "metadata": {},
   "outputs": [
    {
     "name": "stdout",
     "output_type": "stream",
     "text": [
      "Result of addition: (4, 6)\n"
     ]
    }
   ],
   "source": [
    "# 10. Demonstrate operator overloading by creating a class Vector and overriding the add method to add two vectors.\n",
    "\n",
    "class Vector:\n",
    "    def __init__(self, x, y):\n",
    "        self.x = x\n",
    "        self.y = y\n",
    "    \n",
    "    def __add__(self, other):\n",
    "        return Vector(self.x + other.x, self.y + other.y)\n",
    "    \n",
    "    def __str__(self):\n",
    "        return f\"({self.x}, {self.y})\"\n",
    "\n",
    "# Testing the operator overloading\n",
    "v1 = Vector(1, 2)\n",
    "v2 = Vector(3, 4)\n",
    "v3 = v1 + v2  # Using overloaded '+' operator\n",
    "\n",
    "print(f\"Result of addition: {v3}\") \n"
   ]
  },
  {
   "cell_type": "code",
   "execution_count": 107,
   "id": "a767ff53-d8a2-4f6a-b0f4-92e8f5e09f38",
   "metadata": {},
   "outputs": [
    {
     "name": "stdout",
     "output_type": "stream",
     "text": [
      "Hello, my name is John and I am 30 years old.\n"
     ]
    }
   ],
   "source": [
    "# 11. Create a class Person with attributes name and age. \n",
    "# Add a method greet() that prints \"Hello, my name is {name} and I am {age} years old.\"\n",
    "\n",
    "class Person:\n",
    "    def __init__(self, name, age):\n",
    "        self.name = name\n",
    "        self.age = age\n",
    "    \n",
    "    def greet(self):\n",
    "        print(f\"Hello, my name is {self.name} and I am {self.age} years old.\")\n",
    "\n",
    "# Testing the class\n",
    "person = Person(\"John\", 30)\n",
    "person.greet() "
   ]
  },
  {
   "cell_type": "code",
   "execution_count": 109,
   "id": "5968140e-7d30-4912-ba3a-642ece566ddc",
   "metadata": {},
   "outputs": [
    {
     "name": "stdout",
     "output_type": "stream",
     "text": [
      "Alice's Average Grade: 86.25\n"
     ]
    }
   ],
   "source": [
    "# 12. Implement a class Student with attributes name and grades. \n",
    "# Create a method average_grade() to compute the average of the grades.\n",
    "\n",
    "class Student:\n",
    "    def __init__(self, name, grades):\n",
    "        self.name = name\n",
    "        self.grades = grades\n",
    "    \n",
    "    def average_grade(self):\n",
    "        return sum(self.grades) / len(self.grades)\n",
    "\n",
    "# Testing the class\n",
    "student = Student(\"Alice\", [85, 90, 78, 92])\n",
    "print(f\"{student.name}'s Average Grade: {student.average_grade()}\") "
   ]
  },
  {
   "cell_type": "code",
   "execution_count": 111,
   "id": "9e666174-2f40-4ba5-bc1a-a1dd590061d9",
   "metadata": {},
   "outputs": [
    {
     "name": "stdout",
     "output_type": "stream",
     "text": [
      "Area of Rectangle: 24\n"
     ]
    }
   ],
   "source": [
    "# 13. Create a class Rectangle with methods set_dimensions() to set the dimensions \n",
    "# and area() to calculate the area.\n",
    "\n",
    "class Rectangle:\n",
    "    def __init__(self):\n",
    "        self.length = 0\n",
    "        self.width = 0\n",
    "    \n",
    "    def set_dimensions(self, length, width):\n",
    "        self.length = length\n",
    "        self.width = width\n",
    "    \n",
    "    def area(self):\n",
    "        return self.length * self.width\n",
    "\n",
    "# Testing the class\n",
    "rectangle = Rectangle()\n",
    "rectangle.set_dimensions(4, 6)\n",
    "print(f\"Area of Rectangle: {rectangle.area()}\") \n"
   ]
  },
  {
   "cell_type": "code",
   "execution_count": 113,
   "id": "00d163dc-240e-4c74-a2d4-20a44fbf4c58",
   "metadata": {},
   "outputs": [
    {
     "name": "stdout",
     "output_type": "stream",
     "text": [
      "Employee's Salary: 1000\n",
      "Manager's Salary: 1700\n"
     ]
    }
   ],
   "source": [
    "# 14. Create a class Employee with a method calculate_salary() that computes the salary based on hours worked \n",
    "# and hourly rate. Create a derived class Manager that adds a bonus to the salary.\n",
    "\n",
    "class Employee:\n",
    "    def __init__(self, name, hours_worked, hourly_rate):\n",
    "        self.name = name\n",
    "        self.hours_worked = hours_worked\n",
    "        self.hourly_rate = hourly_rate\n",
    "    \n",
    "    def calculate_salary(self):\n",
    "        return self.hours_worked * self.hourly_rate\n",
    "\n",
    "# Derived class Manager\n",
    "class Manager(Employee):\n",
    "    def __init__(self, name, hours_worked, hourly_rate, bonus):\n",
    "        super().__init__(name, hours_worked, hourly_rate)\n",
    "        self.bonus = bonus\n",
    "    \n",
    "    def calculate_salary(self):\n",
    "        return super().calculate_salary() + self.bonus\n",
    "\n",
    "# Testing the classes\n",
    "employee = Employee(\"John\", 40, 25)\n",
    "print(f\"Employee's Salary: {employee.calculate_salary()}\")  \n",
    "manager = Manager(\"Alice\", 40, 30, 500)\n",
    "print(f\"Manager's Salary: {manager.calculate_salary()}\") "
   ]
  },
  {
   "cell_type": "code",
   "execution_count": 115,
   "id": "bd59638d-8b3e-4381-b582-9b14c569acc1",
   "metadata": {},
   "outputs": [
    {
     "name": "stdout",
     "output_type": "stream",
     "text": [
      "Total Price of Laptop: $3000\n"
     ]
    }
   ],
   "source": [
    "# 15. Create a class Product with attributes name, price, and quantity. \n",
    "# Implement a method total_price() that calculates the total price of the product.\n",
    "\n",
    "class Product:\n",
    "    def __init__(self, name, price, quantity):\n",
    "        self.name = name\n",
    "        self.price = price\n",
    "        self.quantity = quantity\n",
    "    \n",
    "    def total_price(self):\n",
    "        return self.price * self.quantity\n",
    "\n",
    "# Testing the class\n",
    "product = Product(\"Laptop\", 1000, 3)\n",
    "print(f\"Total Price of {product.name}: ${product.total_price()}\")  \n"
   ]
  },
  {
   "cell_type": "code",
   "execution_count": 117,
   "id": "3f7fbf0c-05c5-4a80-a50a-b0269c8e85b0",
   "metadata": {},
   "outputs": [
    {
     "name": "stdout",
     "output_type": "stream",
     "text": [
      "Total Price of Laptop: $3000\n"
     ]
    }
   ],
   "source": [
    "# 15. Create a class Product with attributes name, price, and quantity. \n",
    "# Implement a method total_price() that calculates the total price of the product.\n",
    "\n",
    "class Product:\n",
    "    def __init__(self, name, price, quantity):\n",
    "        self.name = name\n",
    "        self.price = price\n",
    "        self.quantity = quantity\n",
    "    \n",
    "    def total_price(self):\n",
    "        return self.price * self.quantity\n",
    "\n",
    "# Testing the class\n",
    "product = Product(\"Laptop\", 1000, 3)\n",
    "print(f\"Total Price of {product.name}: ${product.total_price()}\")  "
   ]
  },
  {
   "cell_type": "code",
   "execution_count": 119,
   "id": "1c55e1b3-cc00-4590-b06d-5217f3ad7413",
   "metadata": {},
   "outputs": [
    {
     "name": "stdout",
     "output_type": "stream",
     "text": [
      "Moo!\n",
      "Baa!\n"
     ]
    }
   ],
   "source": [
    "# 16. Create a class Animal with an abstract method sound(). \n",
    "# Create two derived classes Cow and Sheep that implement the sound() method.\n",
    "\n",
    "from abc import ABC, abstractmethod\n",
    "\n",
    "# Abstract class\n",
    "class Animal(ABC):\n",
    "    @abstractmethod\n",
    "    def sound(self):\n",
    "        pass\n",
    "\n",
    "# Derived class Cow\n",
    "class Cow(Animal):\n",
    "    def sound(self):\n",
    "        print(\"Moo!\")\n",
    "\n",
    "# Derived class Sheep\n",
    "class Sheep(Animal):\n",
    "    def sound(self):\n",
    "        print(\"Baa!\")\n",
    "\n",
    "# Testing the classes\n",
    "cow = Cow()\n",
    "cow.sound()  # Output: Moo!\n",
    "\n",
    "sheep = Sheep()\n",
    "sheep.sound()  # Output: Baa!\n"
   ]
  },
  {
   "cell_type": "code",
   "execution_count": 121,
   "id": "d7d1bf6e-3bab-49dd-8799-b16d4ce92ec7",
   "metadata": {},
   "outputs": [
    {
     "name": "stdout",
     "output_type": "stream",
     "text": [
      "Title: 1984, Author: George Orwell, Year Published: 1949\n"
     ]
    }
   ],
   "source": [
    "# 17. Create a class Book with attributes title, author, and year_published. \n",
    "# Add a method get_book_info() that returns a formatted string with the book's details.\n",
    "\n",
    "class Book:\n",
    "    def __init__(self, title, author, year_published):\n",
    "        self.title = title\n",
    "        self.author = author\n",
    "        self.year_published = year_published\n",
    "    \n",
    "    def get_book_info(self):\n",
    "        return f\"Title: {self.title}, Author: {self.author}, Year Published: {self.year_published}\"\n",
    "\n",
    "# Testing the class\n",
    "book = Book(\"1984\", \"George Orwell\", 1949)\n",
    "print(book.get_book_info())  "
   ]
  },
  {
   "cell_type": "code",
   "execution_count": 123,
   "id": "2c0445a6-8de1-41b5-a656-310a18510278",
   "metadata": {},
   "outputs": [
    {
     "name": "stdout",
     "output_type": "stream",
     "text": [
      "Address: 123 Luxury St., Price: 5000000, Number of Rooms: 15\n"
     ]
    }
   ],
   "source": [
    "# 18. Create a class House with attributes address and price. \n",
    "# Create a derived class Mansion that adds an attribute number_of_rooms.\n",
    "\n",
    "class House:\n",
    "    def __init__(self, address, price):\n",
    "        self.address = address\n",
    "        self.price = price\n",
    "\n",
    "# Derived class Mansion\n",
    "class Mansion(House):\n",
    "    def __init__(self, address, price, number_of_rooms):\n",
    "        super().__init__(address, price)\n",
    "        self.number_of_rooms = number_of_rooms\n",
    "    \n",
    "    def mansion_info(self):\n",
    "        return f\"Address: {self.address}, Price: {self.price}, Number of Rooms: {self.number_of_rooms}\"\n",
    "\n",
    "# Testing the classes\n",
    "mansion = Mansion(\"123 Luxury St.\", 5000000, 15)\n",
    "print(mansion.mansion_info())  "
   ]
  }
 ],
 "metadata": {
  "kernelspec": {
   "display_name": "Python 3 (ipykernel)",
   "language": "python",
   "name": "python3"
  },
  "language_info": {
   "codemirror_mode": {
    "name": "ipython",
    "version": 3
   },
   "file_extension": ".py",
   "mimetype": "text/x-python",
   "name": "python",
   "nbconvert_exporter": "python",
   "pygments_lexer": "ipython3",
   "version": "3.12.7"
  }
 },
 "nbformat": 4,
 "nbformat_minor": 5
}
