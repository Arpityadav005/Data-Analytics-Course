{
 "cells": [
  {
   "cell_type": "raw",
   "id": "60b9bd2d-cb0e-4e07-9605-ce7a79d1fd57",
   "metadata": {},
   "source": [
    "Q1.  What are data structures, and why are they important?\n",
    "ANS. Data Structure is the way of organizing data so that it can be accessed efficiently depending upon the situation. Python helps to learn\n",
    "the fundamental of these data structure in a simplar way compare to other programming language.\n",
    "Type of Data Structure in python are --> List , Tuple, Dictionary, Sets etc.\n",
    "They are very important to learn because  they are - essential for efficient Problem - solving , Crucial for job interviews at the top tech companies , Improve coding skills , Solving real world problems , comptetive edge in Programming contest, Adaaptability to New technologies, \n",
    "enhance descision making skills.\n",
    "\n",
    "Q2.  Explain the difference between mutable and immutable data types with examples?\n",
    "ANS. Mutable data type can be changed after their creation, there content can be altered without changing their memory address.\n",
    "example. list, dict, set, bytearray.\n",
    "# Mutable data type: list\n",
    "my_list = [1, 2, 3]\n",
    "print(\"Original list:\", my_list)\n",
    "\n",
    "# Modifying the list\n",
    "my_list.append(4)\n",
    "print(\"Modified list:\", my_list)\n",
    "\n",
    "Immutable data type can not be changed after their creation, we can not altered without changing their memory address.\n",
    "Examples. Strings, Tuples, Integer.\n",
    "#lets do it using string.\n",
    "My_string = 'Arpit'\n",
    "print(My_string)\n",
    "print(id(My_string))\n",
    "\n",
    "# Modifying it.\n",
    "My_string += ' Yadav'\n",
    "print(My_string)\n",
    "print(id(My_string))\n",
    "\n",
    "// address of both the objects are different even they are looking same. You can check using id() function in the code\n",
    "print(id(My_string))\n",
    "\n",
    "Q3.  What are the main differences between lists and tuples in Python?\n",
    "ANS. Lists are mutable , we use [ ] while creation, slower due to mutability, used for dynamaic data collection, Not hashable.\n",
    "while tuples are immutable, we use () while creation, faster due to immutability, used for fixed data collection, hashable.\n",
    "\n",
    "\n",
    "Q4.  Describe, how dictionaries store data?\n",
    "ANS. Dictionaries in Python store data using a hash table. This approach ensures efficient and fast retrieval, insertion, and deletion of data.\n",
    "Key Concept ->  Key-value pair, Hashing, Buckets, Collisions, Mutable and Dynamic.\n",
    "\n",
    "\n",
    "Q5.  Why might you use a set instead of a list in Python?\n",
    "Ans. We might use set instead of a list in python because, In in Sets it automatically remove duplicate items while in a List duplicate items\n",
    "are allowed and you would need additional processing to remove them. Sets use a hash table, making a lookups faster with an average time complexity of O(1), List requires a linear search with a time complexity of O(n).\n",
    "\n",
    "\n",
    "Q6.  What is a string in Python, and how is it different from a list?\n",
    "ANS. String is a sequence of charecters enclosed in quotes. It is immutable means you can not alter after the creation, It is used to store and manipulate the textual data while List is used to store any type of data, such as numbers, strings, or objects, It is mutable and its can be changes after the creation.\n",
    "\n",
    "\n",
    "Q7.  How do tuples ensure data integrity in Python?\n",
    "ANS. Tuples ensure data integrity through their immutability property, meaning once a tuple is created, its contents cannot be modified, which helps in maintaining the integrity of the data. \n",
    "\n",
    "\n",
    "Q8.  What is a hash table, and how does it relate to dictionaries in Python?\n",
    "ANS. The hash table(or hash map) is a data structure that stores key-value pairs and uses a hash function to compute the index(hash value)\n",
    "where corresponding value should be stored. The idea behind a hash to provide the fast access to data using these indices.\n",
    "Dictionaries in pythons uses hash table internally which enables efficient key-value pair lookups with average O(1) time complexity.\n",
    "\n",
    "\n",
    "Q9.  Can lists contain different data types in Python?\n",
    "Ans. Yes, List in python can contain different data types. Python List are hetrogeneous means they can store element of various data types\n",
    "including integers, string, floats etc.\n",
    "\n",
    "\n",
    "Q10. Explain why strings are immutable in Python?\n",
    "ANS. Strings in Python are immutable to ensure reliability and efficiency. Immutability allows strings to be safely shared between multiple parts of a program without unexpected modifications.\n",
    "\n",
    "\n",
    "Q11. What advantages do dictionaries offer over lists for certain tasks?\n",
    "ANS. Dictionaries in Python offer several advantages over lists for specific tasks due to their unique characteristics. Here are some key advantages: Fast Lookups and Retrieval, Key-Value pair storage, Unique Keys, Dynamic and flexible, Better for complex structure.\n",
    "\n",
    "\n",
    "Q12. Describe a scenario where using a tuple would be preferable over a list?\n",
    "ANS. Tuples are preferable over lists in scenarios where immutability, performance, or semantic clarity is required.\n",
    "EXAMPLE.......You are writing a program that needs to define and access constant configuration values for a system, such as the dimensions of a screen (width, height).\n",
    "Why Tuple Is Preferable:\n",
    "The screen dimensions will never change during runtime.\n",
    "Tuples are more memory-efficient than lists.\n",
    "The immutability ensures no accidental modification of the configuration.\n",
    "\n",
    "\n",
    "Q13. How do sets handle duplicate values in Python?\n",
    "ANS. In Python, sets automatically eliminate duplicate values. When you create a set, any duplicate elements in the input are removed, leaving only unique elements in the set. This property makes sets particularly useful for tasks that involve ensuring uniqueness.\n",
    "\n",
    "\n",
    "Q14. How does the “in” keyword work differently for lists and dictionaries?\n",
    "ANS. For lists, the in keyword checks whether a specified value exists as an element in the list.\n",
    "Operation: It performs a sequential search (O(n) time complexity).\n",
    "For dictionaries, the in keyword checks for the existence of a key, not a value.\n",
    "Operation: It uses a hash-based lookup (O(1) average time complexity).\n",
    "\n",
    "\n",
    "Q15. Can you modify the elements of a tuple? Explain why or why not?\n",
    "ANS. No, you cannot modify the elements of a tuple directly because tuples are immutable in Python. This means that once a tuple is created, its elements cannot be changed, added, or removed.\n",
    "ReasonDesign Decision: The immutability of tuples ensures they are hashable (if all their elements are also hashable), which allows them to be used as keys in dictionaries or elements in sets.\n",
    "Data Integrity: Immutability provides a level of safety, preventing accidental modifications to the tuple's content.\n",
    "Performance: Tuples can be more memory-efficient and faster to use than mutable data types like lists because their immutability allows certain optimizations.\n",
    "\n",
    "\n",
    "\n",
    "Q16  What is a nested dictionary, and give an example of its use case?\n",
    "ANS. Nested dictionary in Python is a dictionary within another dictionary. It allows you to represent complex, hierarchical, or structured data in a single dictionary object. Each key in the outer dictionary can have another dictionary (or dictionaries) as its value.\n",
    "\n",
    "\n",
    "Q17. Describe the time complexity of accessing elements in a dictionary?\n",
    "ANS. The time complexity of accessing elements in a dictionary in Python is generally O(1) (constant time) for average cases. This efficiency is due to the underlying implementation of dictionaries using hash tables.\n",
    "\n",
    "\n",
    "Q18. In what situations are lists preferred over dictionaries?\n",
    "ANS. Lists are preferred over dictionaries in the following situations......\n",
    "\n",
    "When order matters (e.g., ordered sequences or time-series data).\n",
    "When data has no key-value relationship (e.g., a collection of values like colors or scores).\n",
    "For efficient index-based access or appending (e.g., accessing by position or adding elements).\n",
    "When working with homogeneous data (e.g., numbers, strings).\n",
    "For small datasets (simpler and more memory-efficient).\n",
    "When frequent sorting or index-based operations are required (e.g., arranging elements).\n",
    "\n",
    "Q19. Why are dictionaries considered unordered, and how does that affect data retrieval?\n",
    "ANS. Dictionaries were considered unordered because their primary focus is efficient key-based access, not maintaining element order.\n",
    "Retrieval is based on keys, not positional indexing.\n",
    "Order should not be relied on for operations requiring sequence.\n",
    "Key lookups are efficient (O(1)), independent of order.\n",
    "\n",
    "\n",
    "Q20. Explain the difference between a list and a dictionary in terms of data retrieval?\n",
    "ANS. List: Data is retrieved by index (position-based).\n",
    "Example: my_list[2] retrieves the element at the 3rd position.\n",
    "Dictionary: Data is retrieved by key (key-based).\n",
    "Example: my_dict['key'] retrieves the value associated with 'key'.\n",
    "\n",
    "\n",
    "\n"
   ]
  },
  {
   "cell_type": "code",
   "execution_count": 2,
   "id": "aabc870b-7822-4661-b00c-fd0bfbaa7c70",
   "metadata": {},
   "outputs": [],
   "source": [
    "#####PRACTICAL QUESTIONS#############"
   ]
  },
  {
   "cell_type": "code",
   "execution_count": 4,
   "id": "8e919d62-2f78-4e95-95f7-8a503f423ecf",
   "metadata": {},
   "outputs": [
    {
     "name": "stdout",
     "output_type": "stream",
     "text": [
      "Arpit Yadav\n"
     ]
    }
   ],
   "source": [
    "# Q1. Write a code to create a string with your name and print it?\n",
    "name = \"Arpit Yadav\"\n",
    "print(name)"
   ]
  },
  {
   "cell_type": "code",
   "execution_count": 6,
   "id": "7098d05f-a174-42db-8269-3827a9521bac",
   "metadata": {},
   "outputs": [
    {
     "name": "stdout",
     "output_type": "stream",
     "text": [
      "11\n"
     ]
    }
   ],
   "source": [
    "# 2. Find the length of the string \"Hello World\"\n",
    "print(len(\"Hello World\"))"
   ]
  },
  {
   "cell_type": "code",
   "execution_count": 8,
   "id": "825c14ae-e1f4-4136-bb1d-446c23dc1521",
   "metadata": {},
   "outputs": [
    {
     "name": "stdout",
     "output_type": "stream",
     "text": [
      "Pyt\n"
     ]
    }
   ],
   "source": [
    "# 3. Slice the first 3 characters from the string \"Python Programming\"\n",
    "sliced_string = \"Python Programming\"[:3]\n",
    "print(sliced_string)\n"
   ]
  },
  {
   "cell_type": "code",
   "execution_count": 10,
   "id": "df63c715-20f1-48e7-9c5f-f1b40291a4ba",
   "metadata": {},
   "outputs": [
    {
     "name": "stdout",
     "output_type": "stream",
     "text": [
      "HELLO\n"
     ]
    }
   ],
   "source": [
    "# 4. Convert the string \"hello\" to uppercase\n",
    "uppercase_string = \"hello\".upper()\n",
    "print(uppercase_string)"
   ]
  },
  {
   "cell_type": "code",
   "execution_count": 12,
   "id": "c79d68d9-3469-40d7-925d-a84bd3215a39",
   "metadata": {},
   "outputs": [
    {
     "name": "stdout",
     "output_type": "stream",
     "text": [
      "I like orange\n"
     ]
    }
   ],
   "source": [
    "# 5. Replace the word \"apple\" with \"orange\" in the string \"I like apple\"\n",
    "replaced_string = \"I like apple\".replace(\"apple\", \"orange\")\n",
    "print(replaced_string)\n"
   ]
  },
  {
   "cell_type": "code",
   "execution_count": 14,
   "id": "56191fe3-ac50-42a1-b41f-7d0aaa857707",
   "metadata": {},
   "outputs": [
    {
     "name": "stdout",
     "output_type": "stream",
     "text": [
      "[1, 2, 3, 4, 5]\n"
     ]
    }
   ],
   "source": [
    "# 6. Create a list with numbers 1 to 5 and print it\n",
    "number_list = [1, 2, 3, 4, 5]\n",
    "print(number_list)"
   ]
  },
  {
   "cell_type": "code",
   "execution_count": 16,
   "id": "ea953f23-0ef5-42d4-a59d-936a4e7b2e17",
   "metadata": {},
   "outputs": [
    {
     "name": "stdout",
     "output_type": "stream",
     "text": [
      "[1, 2, 3, 4, 10]\n"
     ]
    }
   ],
   "source": [
    "# 7. Append the number 10 to the list [1, 2, 3, 4]\n",
    "list_to_append = [1, 2, 3, 4]\n",
    "list_to_append.append(10)\n",
    "print(list_to_append)\n"
   ]
  },
  {
   "cell_type": "code",
   "execution_count": 18,
   "id": "4e2e92ac-a15d-4727-abd4-2196060bdcd3",
   "metadata": {},
   "outputs": [
    {
     "name": "stdout",
     "output_type": "stream",
     "text": [
      "[1, 2, 4, 5]\n"
     ]
    }
   ],
   "source": [
    "# 8. Remove the number 3 from the list [1, 2, 3, 4, 5]\n",
    "list_to_remove = [1, 2, 3, 4, 5]\n",
    "list_to_remove.remove(3)\n",
    "print(list_to_remove)"
   ]
  },
  {
   "cell_type": "code",
   "execution_count": 20,
   "id": "45633137-6564-4e0d-8694-4f0a30064084",
   "metadata": {},
   "outputs": [
    {
     "name": "stdout",
     "output_type": "stream",
     "text": [
      "b\n"
     ]
    }
   ],
   "source": [
    "# 9. Access the second element in the list ['a', 'b', 'c', 'd']\n",
    "second_element = ['a', 'b', 'c', 'd'][1]\n",
    "print(second_element)"
   ]
  },
  {
   "cell_type": "code",
   "execution_count": 22,
   "id": "e4b76c56-ac26-4f3a-9d22-a7660d77fff4",
   "metadata": {},
   "outputs": [
    {
     "name": "stdout",
     "output_type": "stream",
     "text": [
      "[50, 40, 30, 20, 10]\n"
     ]
    }
   ],
   "source": [
    "# 10. Reverse the list [10, 20, 30, 40, 50]\n",
    "reversed_list = [10, 20, 30, 40, 50][::-1]\n",
    "print(reversed_list)"
   ]
  },
  {
   "cell_type": "code",
   "execution_count": 24,
   "id": "6d87aeb8-2899-49d3-8004-f8669f289ba7",
   "metadata": {},
   "outputs": [
    {
     "name": "stdout",
     "output_type": "stream",
     "text": [
      "(10, 20, 30)\n"
     ]
    }
   ],
   "source": [
    "# 11. Create a tuple with the elements 10, 20, 30 and print it\n",
    "tuple_data = (10, 20, 30)\n",
    "print(tuple_data)"
   ]
  },
  {
   "cell_type": "code",
   "execution_count": 26,
   "id": "effb9315-c406-48a1-aea3-e5939656ee71",
   "metadata": {},
   "outputs": [
    {
     "name": "stdout",
     "output_type": "stream",
     "text": [
      "apple\n"
     ]
    }
   ],
   "source": [
    "# 12. Access the first element of the tuple ('apple', 'banana', 'cherry')\n",
    "first_element = ('apple', 'banana', 'cherry')[0]\n",
    "print(first_element)"
   ]
  },
  {
   "cell_type": "code",
   "execution_count": 28,
   "id": "4c6165e2-ac11-4d65-be33-1ef15b1fb49e",
   "metadata": {},
   "outputs": [
    {
     "name": "stdout",
     "output_type": "stream",
     "text": [
      "3\n"
     ]
    }
   ],
   "source": [
    "# 13. Count how many times the number 2 appears in the tuple (1, 2, 3, 2, 4, 2)\n",
    "count_two = (1, 2, 3, 2, 4, 2).count(2)\n",
    "print(count_two)"
   ]
  },
  {
   "cell_type": "code",
   "execution_count": 30,
   "id": "e8800583-59bf-4a8b-9e64-e66ba8bfd6c8",
   "metadata": {},
   "outputs": [
    {
     "name": "stdout",
     "output_type": "stream",
     "text": [
      "1\n"
     ]
    }
   ],
   "source": [
    "# 14. Find the index of the element \"cat\" in the tuple ('dog', 'cat', 'rabbit')\n",
    "index_of_cat = ('dog', 'cat', 'rabbit').index(\"cat\")\n",
    "print(index_of_cat)"
   ]
  },
  {
   "cell_type": "code",
   "execution_count": 32,
   "id": "3dd456c3-b51d-4451-862f-9d3363af7bc2",
   "metadata": {},
   "outputs": [
    {
     "name": "stdout",
     "output_type": "stream",
     "text": [
      "True\n"
     ]
    }
   ],
   "source": [
    "# 15. Check if the element \"banana\" is in the tuple ('apple', 'orange', 'banana')\n",
    "is_banana_in_tuple = \"banana\" in ('apple', 'orange', 'banana')\n",
    "print(is_banana_in_tuple)"
   ]
  },
  {
   "cell_type": "code",
   "execution_count": 34,
   "id": "343035ae-679e-423e-b27d-16155442485d",
   "metadata": {},
   "outputs": [
    {
     "name": "stdout",
     "output_type": "stream",
     "text": [
      "{1, 2, 3, 4, 5}\n"
     ]
    }
   ],
   "source": [
    "# 16. Create a set with the elements 1, 2, 3, 4, 5 and print it\n",
    "set_data = {1, 2, 3, 4, 5}\n",
    "print(set_data)"
   ]
  },
  {
   "cell_type": "code",
   "execution_count": 36,
   "id": "c16176f8-1474-4058-adbe-d50939905bc8",
   "metadata": {},
   "outputs": [
    {
     "name": "stdout",
     "output_type": "stream",
     "text": [
      "{1, 2, 3, 4, 6}\n"
     ]
    }
   ],
   "source": [
    "# 17. Add the element 6 to the set {1, 2, 3, 4}\n",
    "set_to_add = {1, 2, 3, 4}\n",
    "set_to_add.add(6)\n",
    "print(set_to_add)"
   ]
  },
  {
   "cell_type": "code",
   "execution_count": 38,
   "id": "28aef8fc-bba6-47ad-b12f-a069eb7656bf",
   "metadata": {},
   "outputs": [
    {
     "name": "stdout",
     "output_type": "stream",
     "text": [
      "(10, 20, 30)\n"
     ]
    }
   ],
   "source": [
    "# 18. Create a tuple with the elements 10, 20, 30 and print it (repeated)\n",
    "tuple_data = (10, 20, 30)\n",
    "print(tuple_data)"
   ]
  },
  {
   "cell_type": "code",
   "execution_count": 40,
   "id": "cd2c0612-daf3-4b5b-bd5c-17c8c1e39317",
   "metadata": {},
   "outputs": [
    {
     "name": "stdout",
     "output_type": "stream",
     "text": [
      "apple\n"
     ]
    }
   ],
   "source": [
    "# 19. Access the first element of the tuple ('apple', 'banana', 'cherry') (repeated)\n",
    "first_element = ('apple', 'banana', 'cherry')[0]\n",
    "print(first_element)"
   ]
  },
  {
   "cell_type": "code",
   "execution_count": 42,
   "id": "88ba093e-9e7a-4fa1-befc-e8650194ce0a",
   "metadata": {},
   "outputs": [
    {
     "name": "stdout",
     "output_type": "stream",
     "text": [
      "3\n"
     ]
    }
   ],
   "source": [
    "# 20. Count how many times the number 2 appears in the tuple (1, 2, 3, 2, 4, 2) (repeated)\n",
    "count_two = (1, 2, 3, 2, 4, 2).count(2)\n",
    "print(count_two)\n"
   ]
  },
  {
   "cell_type": "code",
   "execution_count": 44,
   "id": "a3c3d7b4-15ac-477e-91df-6cff9b48afa0",
   "metadata": {},
   "outputs": [
    {
     "name": "stdout",
     "output_type": "stream",
     "text": [
      "1\n"
     ]
    }
   ],
   "source": [
    "# 21. Find the index of the element \"cat\" in the tuple ('dog', 'cat', 'rabbit') (repeated)\n",
    "index_of_cat = ('dog', 'cat', 'rabbit').index(\"cat\")\n",
    "print(index_of_cat)"
   ]
  },
  {
   "cell_type": "code",
   "execution_count": 46,
   "id": "035c67e9-deac-4469-9f16-4fab7ef478b5",
   "metadata": {},
   "outputs": [
    {
     "name": "stdout",
     "output_type": "stream",
     "text": [
      "True\n"
     ]
    }
   ],
   "source": [
    "# 22. Check if the element \"banana\" is in the tuple ('apple', ... (incomplete instruction))\n",
    "is_banana_in_tuple = \"banana\" in ('apple', 'banana')\n",
    "print(is_banana_in_tuple)"
   ]
  },
  {
   "cell_type": "code",
   "execution_count": 48,
   "id": "3bd8c79c-580a-4708-86f1-819c45c4d169",
   "metadata": {},
   "outputs": [
    {
     "name": "stdout",
     "output_type": "stream",
     "text": [
      "{1, 2, 3, 4, 5}\n"
     ]
    }
   ],
   "source": [
    "# 23. Create a set with the elements 1, 2, 3, 4, 5 and print it\n",
    "set_data = {1, 2, 3, 4, 5}\n",
    "print(set_data)\n"
   ]
  },
  {
   "cell_type": "code",
   "execution_count": 50,
   "id": "d5b427c0-72bc-4252-a6e4-d661989beb45",
   "metadata": {},
   "outputs": [
    {
     "name": "stdout",
     "output_type": "stream",
     "text": [
      "{1, 2, 3, 4, 6}\n"
     ]
    }
   ],
   "source": [
    "# 24. Add the element 6 to the set {1, 2, 3, 4}\n",
    "set_to_add = {1, 2, 3, 4}\n",
    "set_to_add.add(6)\n",
    "print(set_to_add)\n"
   ]
  },
  {
   "cell_type": "code",
   "execution_count": null,
   "id": "fde7fdac-0200-4cbc-bacb-0237dd67dcf2",
   "metadata": {},
   "outputs": [],
   "source": []
  }
 ],
 "metadata": {
  "kernelspec": {
   "display_name": "Python 3 (ipykernel)",
   "language": "python",
   "name": "python3"
  },
  "language_info": {
   "codemirror_mode": {
    "name": "ipython",
    "version": 3
   },
   "file_extension": ".py",
   "mimetype": "text/x-python",
   "name": "python",
   "nbconvert_exporter": "python",
   "pygments_lexer": "ipython3",
   "version": "3.12.7"
  }
 },
 "nbformat": 4,
 "nbformat_minor": 5
}
