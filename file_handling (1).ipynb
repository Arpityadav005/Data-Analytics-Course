{
 "cells": [
  {
   "cell_type": "code",
   "execution_count": 2,
   "id": "ec7f15f9-c030-4286-a7a7-df35ce888367",
   "metadata": {},
   "outputs": [],
   "source": [
    "# Q1.  What is the difference between interpreted and compiled languages?\n",
    "# ANS. Interpreted languages execute code line-by-line through an interpreter, making them platform-independent but slower. \n",
    "#      Compiled languages convert code to machine language before execution, offering faster performance but requiring recompilation for different \n",
    "#       platforms.\n",
    "\n",
    "# Q2. What is exception handling in Python?\n",
    "# ANS. Exception handling in Python allows you to manage errors gracefully using try, except, else, and finally blocks, preventing program crashes \n",
    "#      and enabling alternative execution paths.\n",
    "\n",
    "# Q3. What is the purpose of the finally block in exception handling?\n",
    "# ANS. The finally block is executed no matter what, ensuring cleanup operations like closing files or releasing resources occur, regardless of \n",
    "#      exceptions.\n",
    "\n",
    "# Q4. What is logging in Python?\n",
    "# ANS. Logging is a way to track events that happen during program execution, useful for debugging and monitoring. \n",
    "#      The logging module provides a flexible framework for writing logs to different outputs.\n",
    "\n",
    "# Q5. What is the significance of the __del__ method in Python?\n",
    "# ANS. The __del__ method is a destructor that is called when an object is garbage-collected, allowing for cleanup of resources \n",
    "#      such as closing files or network connections.\n",
    "\n",
    "# Q6. What is the difference between import and from ... import in Python?\n",
    "# ANS. import brings the entire module into the namespace, whereas from ... import imports specific elements, \n",
    "#      reducing memory usage and improving readability.\n",
    "\n",
    "# Q7. How can you handle multiple exceptions in Python?\n",
    "# ANS. Use multiple except blocks to handle different exceptions or group exceptions using a tuple in a single except block\n",
    "#      for similar error types.\n",
    "\n",
    "# Q8. What is the purpose of the with statement when handling files in Python?\n",
    "# ANS. The with statement ensures proper acquisition and release of resources, automatically closing files after their block \n",
    "#      execution, preventing resource leaks.\n",
    "\n",
    "# Q9. What is the difference between multithreading and multiprocessing?\n",
    "# ANS. Multithreading runs multiple threads in the same process, sharing memory. Multiprocessing runs independent processes \n",
    "#      with separate memory, offering better CPU utilization for compute-intensive tasks.\n",
    "\n",
    "# Q10. What are the advantages of using logging in a program?\n",
    "# ANS. Logging helps in debugging, auditing, and monitoring the application's behavior over time, especially in production environments.\n",
    "\n",
    "# Q11. What is memory management in Python?\n",
    "# ANS. Python uses automatic memory management, primarily via garbage collection, to allocate and free memory for objects, \n",
    "#      ensuring efficient resource usage.\n",
    "\n",
    "# Q12. What are the basic steps involved in exception handling in Python?\n",
    "# ANS. Wrap risky code in a try block, handle errors in except blocks, use else for code that runs if no exceptions occur, \n",
    "#      and finally for cleanup.\n",
    "\n",
    "# Q13. Why is memory management important in Python?\n",
    "# ANS. Efficient memory management prevents memory leaks, improves program performance, and ensures resources are used effectively.\n",
    "\n",
    "\n",
    "# Q14. What is the role of try and except in exception handling?\n",
    "# ANS. The try block contains code that might raise exceptions, and except handles those exceptions, providing alternative actions.\n",
    "\n",
    "# Q15. How does Python's garbage collection system work?\n",
    "# ANS. Python's garbage collector tracks and removes objects no longer referenced, reclaiming memory and preventing memory leaks.\n",
    "\n",
    "# Q16. What is the purpose of the else block in exception handling?\n",
    "# ANS. The else block runs code when no exceptions are raised in the try block, separating normal execution from error handling.\n",
    "\n",
    "# Q17. What are the common logging levels in Python?\n",
    "# ANS. Common levels include DEBUG, INFO, WARNING, ERROR, and CRITICAL, each indicating the severity of the log message.\n",
    "\n",
    "# Q18. What is the difference between os.fork() and multiprocessing in Python?\n",
    "# ANS. os.fork() creates a new process in Unix-like systems, duplicating the parent process. Multiprocessing is platform-independent \n",
    "#     and provides better abstractions for creating and managing processes.\n",
    "\n",
    "# Q19. What is the importance of closing a file in Python?\n",
    "# ANS. Closing a file ensures that changes are saved, resources are released, and the file is not locked unnecessarily, \n",
    "#      preventing data corruption.\n",
    "\n",
    "# Q20. What is the difference between file.read() and file.readline() in Python?\n",
    "# ANS. file.read() reads the entire file or a specified number of bytes, while file.readline() reads one line at a time,\n",
    "#      suitable for processing large files line-by-line.\n",
    "\n",
    "# Q21. What is the logging module in Python used for?\n",
    "# ANS. The logging module provides tools to track events in a program, write logs to files or streams, and categorize logs by severity.\n",
    "\n",
    "# Q22. What is the os module in Python used for in file handling?\n",
    "# ANS. The os module provides functions for interacting with the operating system, such as creating, deleting, or navigating files and directories.\n",
    "\n",
    "# Q23. What are the challenges associated with memory management in Python?\n",
    "# ANS. Challenges include managing circular references, ensuring proper garbage collection, and balancing memory efficiency with performance.\n",
    "\n",
    "# Q24. How do you raise an exception manually in Python?\n",
    "# ANS. Use the raise keyword with an exception type and an optional message to raise an exception manually, \n",
    "#      e.g., raise ValueError(\"Invalid input\").\n",
    "\n",
    "# Q25. Why is it important to use multithreading in certain applications?\n",
    "# ANS. Multithreading is crucial for improving performance in I/O-bound applications and ensuring responsiveness, \n",
    "#      such as in GUI or network programs.\n",
    "\n",
    "\n",
    "\n",
    "\n",
    "\n",
    "\n"
   ]
  },
  {
   "cell_type": "code",
   "execution_count": 6,
   "id": "f0cb14c3-ea9e-418c-bd67-297b86ba28f1",
   "metadata": {},
   "outputs": [],
   "source": [
    "\n",
    "# 1. How can you open a file for writing in Python and write a string to it?\n",
    "with open('example.txt', 'w') as file:\n",
    "    file.write('Hello, world!')"
   ]
  },
  {
   "cell_type": "code",
   "execution_count": 8,
   "id": "f55f5b2b-ddda-4245-ba84-a63cd5a51f73",
   "metadata": {},
   "outputs": [
    {
     "name": "stdout",
     "output_type": "stream",
     "text": [
      "Hello, world!\n"
     ]
    }
   ],
   "source": [
    "\n",
    "# 2. Write a Python program to read the contents of a file and print each line.\n",
    "with open('example.txt', 'r') as file:\n",
    "    for line in file:\n",
    "        print(line.strip())"
   ]
  },
  {
   "cell_type": "code",
   "execution_count": 10,
   "id": "da080801-efea-4a93-986e-b3a9e305bf84",
   "metadata": {},
   "outputs": [
    {
     "name": "stdout",
     "output_type": "stream",
     "text": [
      "The file does not exist.\n"
     ]
    }
   ],
   "source": [
    "# 3. How would you handle a case where the file doesn't exist while trying to open it for reading?\n",
    "try:\n",
    "    with open('nonexistent.txt', 'r') as file:\n",
    "        print(file.read())\n",
    "except FileNotFoundError:\n",
    "    print(\"The file does not exist.\")"
   ]
  },
  {
   "cell_type": "code",
   "execution_count": 16,
   "id": "708c5ffd-537b-49f5-b4ee-2175b3751d9a",
   "metadata": {},
   "outputs": [
    {
     "name": "stdout",
     "output_type": "stream",
     "text": [
      "Error: source.txt does not exist.\n"
     ]
    }
   ],
   "source": [
    "# 4. Write a Python script that reads from one file and writes its content to another file.\n",
    "import os\n",
    "\n",
    "source_file = 'source.txt'\n",
    "destination_file = 'destination.txt'\n",
    "\n",
    "try:\n",
    "    # Check if the source file exists\n",
    "    if not os.path.exists(source_file):\n",
    "        raise FileNotFoundError(f\"{source_file} does not exist.\")\n",
    "    \n",
    "    # Read from the source file and write to the destination file\n",
    "    with open(source_file, 'r') as source:\n",
    "        content = source.read()\n",
    "    with open(destination_file, 'w') as destination:\n",
    "        destination.write(content)\n",
    "    print(f\"Content successfully copied from {source_file} to {destination_file}.\")\n",
    "\n",
    "except FileNotFoundError as e:\n",
    "    print(f\"Error: {e}\")\n"
   ]
  },
  {
   "cell_type": "code",
   "execution_count": 18,
   "id": "853753ff-c482-434a-9ff6-4eea297845f7",
   "metadata": {},
   "outputs": [
    {
     "name": "stdout",
     "output_type": "stream",
     "text": [
      "Cannot divide by zero!\n"
     ]
    }
   ],
   "source": [
    "# 5. How would you catch and handle a division by zero error in Python?\n",
    "try:\n",
    "    result = 10 / 0\n",
    "except ZeroDivisionError:\n",
    "    print(\"Cannot divide by zero!\")\n"
   ]
  },
  {
   "cell_type": "code",
   "execution_count": 20,
   "id": "802ddb43-ba06-4a4c-8b81-452aee7f0ad4",
   "metadata": {},
   "outputs": [],
   "source": [
    "# 6. Write a Python program that logs an error message to a log file when a division by zero exception occurs.\n",
    "import logging\n",
    "\n",
    "logging.basicConfig(filename='error.log', level=logging.ERROR)\n",
    "\n",
    "try:\n",
    "    result = 10 / 0\n",
    "except ZeroDivisionError:\n",
    "    logging.error(\"Division by zero occurred\", exc_info=True)\n"
   ]
  },
  {
   "cell_type": "code",
   "execution_count": 23,
   "id": "5cbeaf5e-3666-4735-a160-76b4100d809b",
   "metadata": {},
   "outputs": [],
   "source": [
    "# 7. How do you log information at different levels (INFO, ERROR, WARNING) in Python using the logging module?\n",
    "import logging\n",
    "\n",
    "logging.basicConfig(level=logging.DEBUG)\n",
    "logging.info(\"This is an INFO message.\")\n",
    "logging.warning(\"This is a WARNING message.\")\n",
    "logging.error(\"This is an ERROR message.\")\n"
   ]
  },
  {
   "cell_type": "code",
   "execution_count": 25,
   "id": "38347778-490d-4338-8e83-ceb93377419b",
   "metadata": {},
   "outputs": [
    {
     "name": "stdout",
     "output_type": "stream",
     "text": [
      "The file could not be found.\n"
     ]
    }
   ],
   "source": [
    "# 8. Write a program to handle a file opening error using exception handling.\n",
    "try:\n",
    "    with open('nonexistent.txt', 'r') as file:\n",
    "        print(file.read())\n",
    "except FileNotFoundError:\n",
    "    print(\"The file could not be found.\")\n"
   ]
  },
  {
   "cell_type": "code",
   "execution_count": 27,
   "id": "cb9580fc-67ab-43d0-b2f7-74bbd27440bf",
   "metadata": {},
   "outputs": [
    {
     "name": "stdout",
     "output_type": "stream",
     "text": [
      "['Hello, world!']\n"
     ]
    }
   ],
   "source": [
    "# 9. How can you read a file line by line and store its content in a list in Python?\n",
    "with open('example.txt', 'r') as file:\n",
    "    lines = [line.strip() for line in file]\n",
    "print(lines)\n"
   ]
  },
  {
   "cell_type": "code",
   "execution_count": 29,
   "id": "352421f0-2f25-463e-b3b6-8fabd05ab724",
   "metadata": {},
   "outputs": [],
   "source": [
    "# 10. How can you append data to an existing file in Python?\n",
    "with open('example.txt', 'a') as file:\n",
    "    file.write('\\nAdditional line of text.')\n"
   ]
  },
  {
   "cell_type": "code",
   "execution_count": 31,
   "id": "f9d1500b-502e-49de-91f2-77851a1fab17",
   "metadata": {},
   "outputs": [
    {
     "name": "stdout",
     "output_type": "stream",
     "text": [
      "Key 'c' does not exist in the dictionary.\n"
     ]
    }
   ],
   "source": [
    "# 11. Write a Python program that uses a try-except block to handle an error when attempting to access a dictionary key that doesn't exist.\n",
    "my_dict = {'a': 1, 'b': 2}\n",
    "\n",
    "try:\n",
    "    value = my_dict['c']\n",
    "except KeyError:\n",
    "    print(\"Key 'c' does not exist in the dictionary.\")\n"
   ]
  },
  {
   "cell_type": "code",
   "execution_count": 33,
   "id": "b5467f8a-e3c1-4d87-b019-960460ce4b67",
   "metadata": {},
   "outputs": [
    {
     "name": "stdout",
     "output_type": "stream",
     "text": [
      "Cannot divide by zero!\n"
     ]
    }
   ],
   "source": [
    "# 12. Write a program that demonstrates using multiple except blocks to handle different types of exceptions.\n",
    "try:\n",
    "    # Simulating a division error\n",
    "    result = 10 / 0\n",
    "    # Simulating a key error\n",
    "    my_dict = {'a': 1}\n",
    "    value = my_dict['b']\n",
    "except ZeroDivisionError:\n",
    "    print(\"Cannot divide by zero!\")\n",
    "except KeyError:\n",
    "    print(\"Key does not exist in the dictionary.\")\n"
   ]
  },
  {
   "cell_type": "code",
   "execution_count": 35,
   "id": "2186f296-e66f-4c1c-931c-c83d5ba2a122",
   "metadata": {},
   "outputs": [
    {
     "name": "stdout",
     "output_type": "stream",
     "text": [
      "Hello, world!\n",
      "Additional line of text.\n"
     ]
    }
   ],
   "source": [
    "# 13. How would you check if a file exists before attempting to read it in Python?\n",
    "import os\n",
    "\n",
    "file_name = 'example.txt'\n",
    "\n",
    "if os.path.exists(file_name):\n",
    "    with open(file_name, 'r') as file:\n",
    "        print(file.read())\n",
    "else:\n",
    "    print(f\"The file {file_name} does not exist.\")\n"
   ]
  },
  {
   "cell_type": "code",
   "execution_count": 37,
   "id": "25c8ee84-686e-473b-9c7a-f704a9386e7d",
   "metadata": {},
   "outputs": [],
   "source": [
    "# 14. Write a program that uses the logging module to log both informational and error messages.\n",
    "import logging\n",
    "\n",
    "logging.basicConfig(filename='app.log', level=logging.DEBUG)\n",
    "\n",
    "try:\n",
    "    result = 10 / 0\n",
    "except ZeroDivisionError:\n",
    "    logging.error(\"Division by zero error occurred.\")\n",
    "else:\n",
    "    logging.info(\"Operation successful.\")\n"
   ]
  },
  {
   "cell_type": "code",
   "execution_count": 39,
   "id": "396b05e6-f358-40e2-a442-1a5e686a0c0d",
   "metadata": {},
   "outputs": [
    {
     "name": "stdout",
     "output_type": "stream",
     "text": [
      "Hello, world!\n",
      "Additional line of text.\n"
     ]
    }
   ],
   "source": [
    "# 15. Write a Python program that prints the content of a file and handles the case when the file is empty.\n",
    "file_name = 'example.txt'\n",
    "\n",
    "try:\n",
    "    with open(file_name, 'r') as file:\n",
    "        content = file.read()\n",
    "        if content.strip():\n",
    "            print(content)\n",
    "        else:\n",
    "            print(\"The file is empty.\")\n",
    "except FileNotFoundError:\n",
    "    print(f\"The file {file_name} does not exist.\")\n"
   ]
  },
  {
   "cell_type": "code",
   "execution_count": 47,
   "id": "bf839de8-bb9e-4cd8-8e38-dc40fdcc9f89",
   "metadata": {},
   "outputs": [
    {
     "name": "stdout",
     "output_type": "stream",
     "text": [
      "Collecting memory-profiler\n",
      "  Downloading memory_profiler-0.61.0-py3-none-any.whl.metadata (20 kB)\n",
      "Requirement already satisfied: psutil in /Applications/anaconda/anaconda3/lib/python3.12/site-packages (from memory-profiler) (5.9.0)\n",
      "Downloading memory_profiler-0.61.0-py3-none-any.whl (31 kB)\n",
      "Installing collected packages: memory-profiler\n",
      "Successfully installed memory-profiler-0.61.0\n",
      "ERROR: Could not find file /var/folders/ty/5_8csghd7m71rfkgp3f8tf9c0000gn/T/ipykernel_9954/457982232.py\n"
     ]
    },
    {
     "data": {
      "text/plain": [
       "499999500000"
      ]
     },
     "execution_count": 47,
     "metadata": {},
     "output_type": "execute_result"
    }
   ],
   "source": [
    "# 16. Demonstrate how to use memory profiling to check the memory usage of a small program.\n",
    "!pip install memory-profiler\n",
    "from memory_profiler import profile\n",
    "\n",
    "@profile\n",
    "def memory_usage_example():\n",
    "    large_list = [i for i in range(1000000)]\n",
    "    return sum(large_list)\n",
    "\n",
    "memory_usage_example()\n",
    "\n",
    "\n"
   ]
  },
  {
   "cell_type": "code",
   "execution_count": 49,
   "id": "a6c82e47-f731-4775-a62b-17a44e9f195b",
   "metadata": {},
   "outputs": [],
   "source": [
    "# 17. Write a Python program to create and write a list of numbers to a file, one number per line.\n",
    "numbers = [1, 2, 3, 4, 5]\n",
    "\n",
    "with open('numbers.txt', 'w') as file:\n",
    "    for number in numbers:\n",
    "        file.write(f\"{number}\\n\")\n"
   ]
  },
  {
   "cell_type": "code",
   "execution_count": 51,
   "id": "03f90741-c094-442c-9f35-275612b829b8",
   "metadata": {},
   "outputs": [],
   "source": [
    "# 18. How would you implement a basic logging setup that logs to a file with rotation after 1MB?\n",
    "import logging\n",
    "from logging.handlers import RotatingFileHandler\n",
    "\n",
    "handler = RotatingFileHandler('rotating.log', maxBytes=1024 * 1024, backupCount=3)\n",
    "logging.basicConfig(handlers=[handler], level=logging.INFO)\n",
    "\n",
    "logging.info(\"This is a log message.\")\n"
   ]
  },
  {
   "cell_type": "code",
   "execution_count": 53,
   "id": "90cc8c9b-1ab4-4b9d-a76d-edabde118559",
   "metadata": {},
   "outputs": [
    {
     "name": "stdout",
     "output_type": "stream",
     "text": [
      "Index out of range!\n",
      "Key not found in dictionary!\n"
     ]
    }
   ],
   "source": [
    "# 19. Write a program that handles both IndexError and KeyError using a try-except block.\n",
    "my_list = [1, 2, 3]\n",
    "my_dict = {'a': 1, 'b': 2}\n",
    "\n",
    "try:\n",
    "    # Accessing an invalid index\n",
    "    value = my_list[5]\n",
    "except IndexError:\n",
    "    print(\"Index out of range!\")\n",
    "\n",
    "try:\n",
    "    # Accessing a non-existing dictionary key\n",
    "    value = my_dict['c']\n",
    "except KeyError:\n",
    "    print(\"Key not found in dictionary!\")\n"
   ]
  },
  {
   "cell_type": "code",
   "execution_count": 55,
   "id": "88eb1b49-0db8-41ef-a298-8d0e4007eec2",
   "metadata": {},
   "outputs": [
    {
     "name": "stdout",
     "output_type": "stream",
     "text": [
      "Hello, world!\n",
      "Additional line of text.\n"
     ]
    }
   ],
   "source": [
    "# 20. How would you open a file and read its contents using a context manager in Python?\n",
    "file_name = 'example.txt'\n",
    "\n",
    "with open(file_name, 'r') as file:\n",
    "    content = file.read()\n",
    "    print(content)\n"
   ]
  },
  {
   "cell_type": "code",
   "execution_count": 57,
   "id": "10593e64-329d-4ca5-98d5-74340a2f0c45",
   "metadata": {},
   "outputs": [
    {
     "name": "stdout",
     "output_type": "stream",
     "text": [
      "The word 'hello' appears 1 times.\n"
     ]
    }
   ],
   "source": [
    "# 21. Write a Python program that reads a file and prints the number of occurrences of a specific word.\n",
    "word_to_search = 'hello'\n",
    "file_name = 'example.txt'\n",
    "\n",
    "with open(file_name, 'r') as file:\n",
    "    content = file.read()\n",
    "\n",
    "word_count = content.lower().count(word_to_search.lower())\n",
    "print(f\"The word '{word_to_search}' appears {word_count} times.\")\n"
   ]
  },
  {
   "cell_type": "code",
   "execution_count": 59,
   "id": "68f86bb1-72ca-45ab-bad7-1048ef73e823",
   "metadata": {},
   "outputs": [
    {
     "name": "stdout",
     "output_type": "stream",
     "text": [
      "The file contains data.\n"
     ]
    }
   ],
   "source": [
    "# 22. How can you check if a file is empty before attempting to read its contents?\n",
    "file_name = 'example.txt'\n",
    "\n",
    "try:\n",
    "    with open(file_name, 'r') as file:\n",
    "        content = file.read()\n",
    "        if not content.strip():  # If file is empty or only contains spaces\n",
    "            print(\"The file is empty.\")\n",
    "        else:\n",
    "            print(\"The file contains data.\")\n",
    "except FileNotFoundError:\n",
    "    print(f\"The file {file_name} does not exist.\")\n"
   ]
  },
  {
   "cell_type": "code",
   "execution_count": 61,
   "id": "c516fa2d-a978-434f-bf56-dbee696efb3d",
   "metadata": {},
   "outputs": [
    {
     "name": "stdout",
     "output_type": "stream",
     "text": [
      "An error occurred. Check the log file for details.\n"
     ]
    }
   ],
   "source": [
    "# 23. Write a Python program that writes to a log file when an error occurs during file handling.\n",
    "import logging\n",
    "\n",
    "logging.basicConfig(filename='file_error.log', level=logging.ERROR)\n",
    "\n",
    "file_name = 'nonexistent.txt'\n",
    "\n",
    "try:\n",
    "    with open(file_name, 'r') as file:\n",
    "        print(file.read())\n",
    "except FileNotFoundError as e:\n",
    "    logging.error(f\"Error occurred while opening file: {e}\")\n",
    "    print(f\"An error occurred. Check the log file for details.\")\n"
   ]
  },
  {
   "cell_type": "code",
   "execution_count": null,
   "id": "5ff5c97b-d5bd-4815-9058-3f8c851fdd7f",
   "metadata": {},
   "outputs": [],
   "source": []
  }
 ],
 "metadata": {
  "kernelspec": {
   "display_name": "Python 3 (ipykernel)",
   "language": "python",
   "name": "python3"
  },
  "language_info": {
   "codemirror_mode": {
    "name": "ipython",
    "version": 3
   },
   "file_extension": ".py",
   "mimetype": "text/x-python",
   "name": "python",
   "nbconvert_exporter": "python",
   "pygments_lexer": "ipython3",
   "version": "3.12.7"
  }
 },
 "nbformat": 4,
 "nbformat_minor": 5
}
